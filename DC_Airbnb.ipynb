{
  "nbformat": 4,
  "nbformat_minor": 0,
  "metadata": {
    "colab": {
      "provenance": [],
      "collapsed_sections": [],
      "authorship_tag": "ABX9TyN7OxPJew981A5FupmVLVa5",
      "include_colab_link": true
    },
    "kernelspec": {
      "name": "python3",
      "display_name": "Python 3"
    },
    "language_info": {
      "name": "python"
    }
  },
  "cells": [
    {
      "cell_type": "markdown",
      "metadata": {
        "id": "view-in-github",
        "colab_type": "text"
      },
      "source": [
        "<a href=\"https://colab.research.google.com/github/chiharuishida/Pyproject/blob/main/DC_Airbnb.ipynb\" target=\"_parent\"><img src=\"https://colab.research.google.com/assets/colab-badge.svg\" alt=\"Open In Colab\"/></a>"
      ]
    },
    {
      "cell_type": "markdown",
      "source": [
        "#following https://www.dataquest.io/blog/machine-learning-tutorial/ with some minor changes"
      ],
      "metadata": {
        "id": "emox37uIl3ti"
      }
    },
    {
      "cell_type": "code",
      "execution_count": null,
      "metadata": {
        "id": "od4svGb1fGYd"
      },
      "outputs": [],
      "source": [
        "import pandas as pd\n",
        "url = \"https://raw.githubusercontent.com/ZixiSu/dataquest/master/dc_airbnb.csv\"\n",
        "dc_listings = pd.read_csv(url)"
      ]
    },
    {
      "cell_type": "code",
      "source": [
        "print(dc_listings.shape) #note: shape means array. this line is optional but if you want to see how many columns and rows, you can run this"
      ],
      "metadata": {
        "colab": {
          "base_uri": "https://localhost:8080/"
        },
        "id": "vikdRw2xf16A",
        "outputId": "162d3422-fa72-4949-eb3e-447222425d25"
      },
      "execution_count": null,
      "outputs": [
        {
          "output_type": "stream",
          "name": "stdout",
          "text": [
            "(3723, 19)\n"
          ]
        }
      ]
    },
    {
      "cell_type": "code",
      "source": [
        "dc_listings.head() \n"
      ],
      "metadata": {
        "colab": {
          "base_uri": "https://localhost:8080/",
          "height": 357
        },
        "id": "zTPeve6WmrTh",
        "outputId": "db8a7f6a-7d7f-42ae-c364-f9195aa99a55"
      },
      "execution_count": null,
      "outputs": [
        {
          "output_type": "execute_result",
          "data": {
            "text/plain": [
              "  host_response_rate host_acceptance_rate  host_listings_count  accommodates  \\\n",
              "0                92%                  91%                   26             4   \n",
              "1                90%                 100%                    1             6   \n",
              "2                90%                 100%                    2             1   \n",
              "3               100%                  NaN                    1             2   \n",
              "4                92%                  67%                    1             4   \n",
              "\n",
              "         room_type  bedrooms  bathrooms  beds    price cleaning_fee  \\\n",
              "0  Entire home/apt       1.0        1.0   2.0  $160.00      $115.00   \n",
              "1  Entire home/apt       3.0        3.0   3.0  $350.00      $100.00   \n",
              "2     Private room       1.0        2.0   1.0   $50.00          NaN   \n",
              "3     Private room       1.0        1.0   1.0   $95.00          NaN   \n",
              "4  Entire home/apt       1.0        1.0   1.0   $50.00       $15.00   \n",
              "\n",
              "  security_deposit  minimum_nights  maximum_nights  number_of_reviews  \\\n",
              "0          $100.00               1            1125                  0   \n",
              "1              NaN               2              30                 65   \n",
              "2              NaN               2            1125                  1   \n",
              "3              NaN               1            1125                  0   \n",
              "4          $450.00               7            1125                  0   \n",
              "\n",
              "    latitude  longitude           city zipcode state  \n",
              "0  38.890046 -77.002808     Washington   20003    DC  \n",
              "1  38.880413 -76.990485     Washington   20003    DC  \n",
              "2  38.955291 -76.986006    Hyattsville   20782    MD  \n",
              "3  38.872134 -77.019639     Washington   20024    DC  \n",
              "4  38.996382 -77.041541  Silver Spring   20910    MD  "
            ],
            "text/html": [
              "\n",
              "  <div id=\"df-175d45c6-8914-4789-afe2-9f64c7b27abc\">\n",
              "    <div class=\"colab-df-container\">\n",
              "      <div>\n",
              "<style scoped>\n",
              "    .dataframe tbody tr th:only-of-type {\n",
              "        vertical-align: middle;\n",
              "    }\n",
              "\n",
              "    .dataframe tbody tr th {\n",
              "        vertical-align: top;\n",
              "    }\n",
              "\n",
              "    .dataframe thead th {\n",
              "        text-align: right;\n",
              "    }\n",
              "</style>\n",
              "<table border=\"1\" class=\"dataframe\">\n",
              "  <thead>\n",
              "    <tr style=\"text-align: right;\">\n",
              "      <th></th>\n",
              "      <th>host_response_rate</th>\n",
              "      <th>host_acceptance_rate</th>\n",
              "      <th>host_listings_count</th>\n",
              "      <th>accommodates</th>\n",
              "      <th>room_type</th>\n",
              "      <th>bedrooms</th>\n",
              "      <th>bathrooms</th>\n",
              "      <th>beds</th>\n",
              "      <th>price</th>\n",
              "      <th>cleaning_fee</th>\n",
              "      <th>security_deposit</th>\n",
              "      <th>minimum_nights</th>\n",
              "      <th>maximum_nights</th>\n",
              "      <th>number_of_reviews</th>\n",
              "      <th>latitude</th>\n",
              "      <th>longitude</th>\n",
              "      <th>city</th>\n",
              "      <th>zipcode</th>\n",
              "      <th>state</th>\n",
              "    </tr>\n",
              "  </thead>\n",
              "  <tbody>\n",
              "    <tr>\n",
              "      <th>0</th>\n",
              "      <td>92%</td>\n",
              "      <td>91%</td>\n",
              "      <td>26</td>\n",
              "      <td>4</td>\n",
              "      <td>Entire home/apt</td>\n",
              "      <td>1.0</td>\n",
              "      <td>1.0</td>\n",
              "      <td>2.0</td>\n",
              "      <td>$160.00</td>\n",
              "      <td>$115.00</td>\n",
              "      <td>$100.00</td>\n",
              "      <td>1</td>\n",
              "      <td>1125</td>\n",
              "      <td>0</td>\n",
              "      <td>38.890046</td>\n",
              "      <td>-77.002808</td>\n",
              "      <td>Washington</td>\n",
              "      <td>20003</td>\n",
              "      <td>DC</td>\n",
              "    </tr>\n",
              "    <tr>\n",
              "      <th>1</th>\n",
              "      <td>90%</td>\n",
              "      <td>100%</td>\n",
              "      <td>1</td>\n",
              "      <td>6</td>\n",
              "      <td>Entire home/apt</td>\n",
              "      <td>3.0</td>\n",
              "      <td>3.0</td>\n",
              "      <td>3.0</td>\n",
              "      <td>$350.00</td>\n",
              "      <td>$100.00</td>\n",
              "      <td>NaN</td>\n",
              "      <td>2</td>\n",
              "      <td>30</td>\n",
              "      <td>65</td>\n",
              "      <td>38.880413</td>\n",
              "      <td>-76.990485</td>\n",
              "      <td>Washington</td>\n",
              "      <td>20003</td>\n",
              "      <td>DC</td>\n",
              "    </tr>\n",
              "    <tr>\n",
              "      <th>2</th>\n",
              "      <td>90%</td>\n",
              "      <td>100%</td>\n",
              "      <td>2</td>\n",
              "      <td>1</td>\n",
              "      <td>Private room</td>\n",
              "      <td>1.0</td>\n",
              "      <td>2.0</td>\n",
              "      <td>1.0</td>\n",
              "      <td>$50.00</td>\n",
              "      <td>NaN</td>\n",
              "      <td>NaN</td>\n",
              "      <td>2</td>\n",
              "      <td>1125</td>\n",
              "      <td>1</td>\n",
              "      <td>38.955291</td>\n",
              "      <td>-76.986006</td>\n",
              "      <td>Hyattsville</td>\n",
              "      <td>20782</td>\n",
              "      <td>MD</td>\n",
              "    </tr>\n",
              "    <tr>\n",
              "      <th>3</th>\n",
              "      <td>100%</td>\n",
              "      <td>NaN</td>\n",
              "      <td>1</td>\n",
              "      <td>2</td>\n",
              "      <td>Private room</td>\n",
              "      <td>1.0</td>\n",
              "      <td>1.0</td>\n",
              "      <td>1.0</td>\n",
              "      <td>$95.00</td>\n",
              "      <td>NaN</td>\n",
              "      <td>NaN</td>\n",
              "      <td>1</td>\n",
              "      <td>1125</td>\n",
              "      <td>0</td>\n",
              "      <td>38.872134</td>\n",
              "      <td>-77.019639</td>\n",
              "      <td>Washington</td>\n",
              "      <td>20024</td>\n",
              "      <td>DC</td>\n",
              "    </tr>\n",
              "    <tr>\n",
              "      <th>4</th>\n",
              "      <td>92%</td>\n",
              "      <td>67%</td>\n",
              "      <td>1</td>\n",
              "      <td>4</td>\n",
              "      <td>Entire home/apt</td>\n",
              "      <td>1.0</td>\n",
              "      <td>1.0</td>\n",
              "      <td>1.0</td>\n",
              "      <td>$50.00</td>\n",
              "      <td>$15.00</td>\n",
              "      <td>$450.00</td>\n",
              "      <td>7</td>\n",
              "      <td>1125</td>\n",
              "      <td>0</td>\n",
              "      <td>38.996382</td>\n",
              "      <td>-77.041541</td>\n",
              "      <td>Silver Spring</td>\n",
              "      <td>20910</td>\n",
              "      <td>MD</td>\n",
              "    </tr>\n",
              "  </tbody>\n",
              "</table>\n",
              "</div>\n",
              "      <button class=\"colab-df-convert\" onclick=\"convertToInteractive('df-175d45c6-8914-4789-afe2-9f64c7b27abc')\"\n",
              "              title=\"Convert this dataframe to an interactive table.\"\n",
              "              style=\"display:none;\">\n",
              "        \n",
              "  <svg xmlns=\"http://www.w3.org/2000/svg\" height=\"24px\"viewBox=\"0 0 24 24\"\n",
              "       width=\"24px\">\n",
              "    <path d=\"M0 0h24v24H0V0z\" fill=\"none\"/>\n",
              "    <path d=\"M18.56 5.44l.94 2.06.94-2.06 2.06-.94-2.06-.94-.94-2.06-.94 2.06-2.06.94zm-11 1L8.5 8.5l.94-2.06 2.06-.94-2.06-.94L8.5 2.5l-.94 2.06-2.06.94zm10 10l.94 2.06.94-2.06 2.06-.94-2.06-.94-.94-2.06-.94 2.06-2.06.94z\"/><path d=\"M17.41 7.96l-1.37-1.37c-.4-.4-.92-.59-1.43-.59-.52 0-1.04.2-1.43.59L10.3 9.45l-7.72 7.72c-.78.78-.78 2.05 0 2.83L4 21.41c.39.39.9.59 1.41.59.51 0 1.02-.2 1.41-.59l7.78-7.78 2.81-2.81c.8-.78.8-2.07 0-2.86zM5.41 20L4 18.59l7.72-7.72 1.47 1.35L5.41 20z\"/>\n",
              "  </svg>\n",
              "      </button>\n",
              "      \n",
              "  <style>\n",
              "    .colab-df-container {\n",
              "      display:flex;\n",
              "      flex-wrap:wrap;\n",
              "      gap: 12px;\n",
              "    }\n",
              "\n",
              "    .colab-df-convert {\n",
              "      background-color: #E8F0FE;\n",
              "      border: none;\n",
              "      border-radius: 50%;\n",
              "      cursor: pointer;\n",
              "      display: none;\n",
              "      fill: #1967D2;\n",
              "      height: 32px;\n",
              "      padding: 0 0 0 0;\n",
              "      width: 32px;\n",
              "    }\n",
              "\n",
              "    .colab-df-convert:hover {\n",
              "      background-color: #E2EBFA;\n",
              "      box-shadow: 0px 1px 2px rgba(60, 64, 67, 0.3), 0px 1px 3px 1px rgba(60, 64, 67, 0.15);\n",
              "      fill: #174EA6;\n",
              "    }\n",
              "\n",
              "    [theme=dark] .colab-df-convert {\n",
              "      background-color: #3B4455;\n",
              "      fill: #D2E3FC;\n",
              "    }\n",
              "\n",
              "    [theme=dark] .colab-df-convert:hover {\n",
              "      background-color: #434B5C;\n",
              "      box-shadow: 0px 1px 3px 1px rgba(0, 0, 0, 0.15);\n",
              "      filter: drop-shadow(0px 1px 2px rgba(0, 0, 0, 0.3));\n",
              "      fill: #FFFFFF;\n",
              "    }\n",
              "  </style>\n",
              "\n",
              "      <script>\n",
              "        const buttonEl =\n",
              "          document.querySelector('#df-175d45c6-8914-4789-afe2-9f64c7b27abc button.colab-df-convert');\n",
              "        buttonEl.style.display =\n",
              "          google.colab.kernel.accessAllowed ? 'block' : 'none';\n",
              "\n",
              "        async function convertToInteractive(key) {\n",
              "          const element = document.querySelector('#df-175d45c6-8914-4789-afe2-9f64c7b27abc');\n",
              "          const dataTable =\n",
              "            await google.colab.kernel.invokeFunction('convertToInteractive',\n",
              "                                                     [key], {});\n",
              "          if (!dataTable) return;\n",
              "\n",
              "          const docLinkHtml = 'Like what you see? Visit the ' +\n",
              "            '<a target=\"_blank\" href=https://colab.research.google.com/notebooks/data_table.ipynb>data table notebook</a>'\n",
              "            + ' to learn more about interactive tables.';\n",
              "          element.innerHTML = '';\n",
              "          dataTable['output_type'] = 'display_data';\n",
              "          await google.colab.output.renderOutput(dataTable, element);\n",
              "          const docLink = document.createElement('div');\n",
              "          docLink.innerHTML = docLinkHtml;\n",
              "          element.appendChild(docLink);\n",
              "        }\n",
              "      </script>\n",
              "    </div>\n",
              "  </div>\n",
              "  "
            ]
          },
          "metadata": {},
          "execution_count": 10
        }
      ]
    },
    {
      "cell_type": "code",
      "source": [
        "#Building a Basic KNN Model using NumPy\n",
        "#the second line: For this demo we are saying that the living space that we want to rent can accommodate 3 people\n",
        "#we’ll first calculate the distance, using just the *accommodates* feature/variable, between the first living space in the data set and our own\n",
        "#We can use the Numpy function np.abs() to get the absolute value.\n",
        "import numpy as np\n",
        "our_acc_value = 3\n",
        "first_living_space_value = dc_listings.loc[0,'accommodates']\n",
        "first_distance = np.abs(first_living_space_value - our_acc_value)\n",
        "print(first_distance)\n",
        "\n",
        "#Note on .loc[] ---> see https://sparkbyexamples.com/pandas/pandas-dataframe-loc/ Basically, Pandas DataFrame is a two-dimensional tabular data structure with labeled axes (1=column, 0=row)\n",
        "#Selecting columns from DataFrame results in a new DataFrame containing only specified selected columns from the original DataFrame."
      ],
      "metadata": {
        "colab": {
          "base_uri": "https://localhost:8080/"
        },
        "id": "mhthSdxe7Oxj",
        "outputId": "645e71fd-b324-4064-f795-d581f64511dd"
      },
      "execution_count": null,
      "outputs": [
        {
          "output_type": "stream",
          "name": "stdout",
          "text": [
            "1\n"
          ]
        }
      ]
    },
    {
      "cell_type": "code",
      "source": [
        "dc_listings['distance'] = np.abs(dc_listings.accommodates - our_acc_value)\n",
        "dc_listings.distance.value_counts().sort_index()"
      ],
      "metadata": {
        "colab": {
          "base_uri": "https://localhost:8080/"
        },
        "id": "hne18zjQy7dG",
        "outputId": "a39db7ab-7017-4292-fd59-4bf80c971eaf"
      },
      "execution_count": null,
      "outputs": [
        {
          "output_type": "execute_result",
          "data": {
            "text/plain": [
              "0      461\n",
              "1     2294\n",
              "2      503\n",
              "3      279\n",
              "4       35\n",
              "5       73\n",
              "6       17\n",
              "7       22\n",
              "8        7\n",
              "9       12\n",
              "10       2\n",
              "11       4\n",
              "12       6\n",
              "13       8\n",
              "Name: distance, dtype: int64"
            ]
          },
          "metadata": {},
          "execution_count": 12
        }
      ]
    },
    {
      "cell_type": "code",
      "source": [
        "dc_listings = dc_listings.sample(frac=1,random_state=0)\n",
        "dc_listings = dc_listings.sort_values('distance')\n",
        "dc_listings.price.head()"
      ],
      "metadata": {
        "colab": {
          "base_uri": "https://localhost:8080/"
        },
        "id": "YyHGekR6zGc7",
        "outputId": "2496e7bd-29c5-4706-e884-a2a3b1f006a3"
      },
      "execution_count": null,
      "outputs": [
        {
          "output_type": "execute_result",
          "data": {
            "text/plain": [
              "2645     $75.00\n",
              "2825    $120.00\n",
              "2145     $90.00\n",
              "2541     $50.00\n",
              "3349    $105.00\n",
              "Name: price, dtype: object"
            ]
          },
          "metadata": {},
          "execution_count": 13
        }
      ]
    },
    {
      "cell_type": "code",
      "source": [
        "dc_listings['price'] = dc_listings.price.str.replace(\"\\$|,\",'').astype(float)\n",
        "mean_price = dc_listings.price.iloc[:5].mean()\n",
        "mean_price"
      ],
      "metadata": {
        "colab": {
          "base_uri": "https://localhost:8080/"
        },
        "id": "swZdmQoPzIlL",
        "outputId": "f0137794-8092-4a31-8067-cc89f604a46f"
      },
      "execution_count": null,
      "outputs": [
        {
          "output_type": "stream",
          "name": "stderr",
          "text": [
            "/usr/local/lib/python3.7/dist-packages/ipykernel_launcher.py:1: FutureWarning: The default value of regex will change from True to False in a future version.\n",
            "  \"\"\"Entry point for launching an IPython kernel.\n"
          ]
        },
        {
          "output_type": "execute_result",
          "data": {
            "text/plain": [
              "88.0"
            ]
          },
          "metadata": {},
          "execution_count": 14
        }
      ]
    },
    {
      "cell_type": "markdown",
      "source": [
        "$88 is our first prediction!"
      ],
      "metadata": {
        "id": "NOzLnYcRzPXW"
      }
    },
    {
      "cell_type": "markdown",
      "source": [
        "Evaluating Our Model"
      ],
      "metadata": {
        "id": "EWf83zb5zWKT"
      }
    },
    {
      "cell_type": "code",
      "source": [
        "dc_listings.drop('distance',axis=1)\n",
        "train_df = dc_listings.copy().iloc[:2792]\n",
        "test_df = dc_listings.copy().iloc[2792:]"
      ],
      "metadata": {
        "id": "CE3Dy7MzzZAS"
      },
      "execution_count": null,
      "outputs": []
    },
    {
      "cell_type": "code",
      "source": [
        "def predict_price(new_listing_value,feature_column):\n",
        "    temp_df = train_df\n",
        "    temp_df['distance'] = np.abs(dc_listings[feature_column] - new_listing_value)\n",
        "    temp_df = temp_df.sort_values('distance')\n",
        "    knn_5 = temp_df.price.iloc[:5]\n",
        "    predicted_price = knn_5.mean()\n",
        "    return(predicted_price)"
      ],
      "metadata": {
        "id": "wLUMJq0Nzaua"
      },
      "execution_count": null,
      "outputs": []
    },
    {
      "cell_type": "code",
      "source": [
        "test_df['predicted_price'] = test_df.accommodates.apply(predict_price,feature_column='accommodates')"
      ],
      "metadata": {
        "id": "jeDtbC3YzcyT"
      },
      "execution_count": null,
      "outputs": []
    },
    {
      "cell_type": "markdown",
      "source": [
        "Using RMSE to Evaluate Our Model"
      ],
      "metadata": {
        "id": "AiP81RU5ze1D"
      }
    },
    {
      "cell_type": "code",
      "source": [
        "test_df['squared_error'] = (test_df['predicted_price'] - test_df['price'])**(2)\n",
        "mse = test_df['squared_error'].mean()\n",
        "rmse = mse ** (1/2)\n",
        "rmse"
      ],
      "metadata": {
        "colab": {
          "base_uri": "https://localhost:8080/"
        },
        "id": "YoIyKSwGzhK7",
        "outputId": "8c1d6d02-7efc-477f-e567-d4040decc20d"
      },
      "execution_count": null,
      "outputs": [
        {
          "output_type": "execute_result",
          "data": {
            "text/plain": [
              "212.9892796705153"
            ]
          },
          "metadata": {},
          "execution_count": 18
        }
      ]
    },
    {
      "cell_type": "markdown",
      "source": [
        "Comparing different models"
      ],
      "metadata": {
        "id": "LXRZQbj3zmor"
      }
    },
    {
      "cell_type": "code",
      "source": [
        "for feature in ['accommodates','bedrooms','bathrooms','number_of_reviews']:\n",
        "    test_df['predicted_price'] = test_df.accommodates.apply(predict_price,feature_column=feature)\n",
        "    test_df['squared_error'] = (test_df['predicted_price'] - test_df['price'])**(2)\n",
        "    mse = test_df['squared_error'].mean()\n",
        "    rmse = mse ** (1/2)\n",
        "    print(\"RMSE for the {} column: {}\".format(feature,rmse))"
      ],
      "metadata": {
        "colab": {
          "base_uri": "https://localhost:8080/"
        },
        "id": "ezTU-kRiznlc",
        "outputId": "92a4ea01-1c83-47ba-d5e1-259c5cb4a0bc"
      },
      "execution_count": null,
      "outputs": [
        {
          "output_type": "stream",
          "name": "stdout",
          "text": [
            "RMSE for the accommodates column: 212.9892796705153\n",
            "RMSE for the bedrooms column: 216.49048609414766\n",
            "RMSE for the bathrooms column: 216.89419042215704\n",
            "RMSE for the number_of_reviews column: 240.2152831433485\n"
          ]
        }
      ]
    },
    {
      "cell_type": "markdown",
      "source": [
        "We can see that the best model of the four that we trained is the one using the accomodates column."
      ],
      "metadata": {
        "id": "zfCuQFtjzviq"
      }
    },
    {
      "cell_type": "code",
      "source": [],
      "metadata": {
        "id": "GPkkAPXtzwUS"
      },
      "execution_count": null,
      "outputs": []
    }
  ]
}