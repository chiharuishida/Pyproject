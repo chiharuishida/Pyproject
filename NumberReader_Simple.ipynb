{
  "nbformat": 4,
  "nbformat_minor": 0,
  "metadata": {
    "colab": {
      "name": "NumberReader_Simple.ipynb",
      "provenance": []
    },
    "kernelspec": {
      "name": "python3",
      "display_name": "Python 3"
    },
    "language_info": {
      "name": "python"
    }
  },
  "cells": [
    {
      "cell_type": "code",
      "source": [
        "from keras.datasets import mnist\n",
        "from keras import models\n",
        "from keras import layers\n",
        "import keras.utils\n",
        "from tensorflow.keras import utils as np_utils\n",
        "from keras.utils.np_utils import to_categorical\n",
        "\n"
      ],
      "metadata": {
        "id": "FcV40dIXIyqJ"
      },
      "execution_count": null,
      "outputs": []
    },
    {
      "cell_type": "code",
      "source": [
        "#first, let's see what the 28 X 28 pixel number images looks like:\n",
        "import matplotlib.pyplot as plt\n",
        "plt.imshow(x_train[0], cmap='gray_r')\n",
        "plt.imshow(x_train[2], cmap='gray_r')\n",
        "plt.imshow(x_train[100], cmap='gray_r')"
      ],
      "metadata": {
        "id": "aWJmWx-tJ_z5"
      },
      "execution_count": null,
      "outputs": []
    },
    {
      "cell_type": "code",
      "source": [
        "(train_images, train_labels), (test_images, test_labels)=mnist.load_data()\n",
        "\n",
        "print(train_labels[3])\n",
        "\n",
        "network = models.Sequential()\n",
        "network.add(layers.Dense(784, activation= 'relu', input_shape=(28 * 28,)))\n",
        "network.add(layers.Dense(784, activation= 'relu', input_shape=(28 * 28,)))\n",
        "network.add(layers.Dense(10, activation= 'softmax'))\n",
        "network.compile(optimizer='adam',\n",
        "                loss = 'categorical_crossentropy',\n",
        "                metrics=['accuracy'])\n",
        "\n",
        "network=models.Sequential()\n",
        "\n",
        "network.add(layers.Dense(784,activation= 'relu', input_shape=(28 * 28,)))\n",
        "network.add(layers.Dense(784,activation= 'relu', input_shape=(28 * 28,)))\n",
        "network.add(layers.Dense(10,activation= 'softmax'))\n",
        "\n",
        "\n",
        "network.compile(optimizer='adam',\n",
        "                loss = 'categorical_crossentropy',\n",
        "                metrics=['accuracy'])\n",
        "\n",
        "train_images = train_images.reshape((60000, 28* 28))\n",
        "train_images = train_images.astype('float32') / 255\n",
        "test_images = test_images.reshape((10000, 28* 28))\n",
        "test_images = test_images.astype('float32') / 255\n",
        "\n",
        "train_labels = to_categorical(train_labels)\n",
        "test_labels = to_categorical(test_labels)\n",
        "print(train_labels[2])\n",
        "\n",
        "network.fit(train_images, train_labels, epochs=5, batch_size=128)\n",
        "\n",
        "test_loss, test_acc = network.evaluate(test_images, test_labels)\n",
        "print('test_acc: ', test_acc, 'test_loss', test_loss)"
      ],
      "metadata": {
        "id": "_VsQ5mtAKF37"
      },
      "execution_count": null,
      "outputs": []
    },
    {
      "cell_type": "code",
      "source": [
        "#let's create a submission file with results\n",
        "results = network.predict(test_images)\n",
        "import numpy as np\n",
        "import pandas as pd\n",
        "results = np.argmax(results,axis = 1)\n",
        "results = pd.Series(results,name=\"Label\")\n",
        "\n",
        "# output\n",
        "submission = pd.concat([pd.Series(range(1,28001), name='ImageId'), results], axis=1)\n",
        "submission.to_csv(\"numberclassification.csv\", index=False)"
      ],
      "metadata": {
        "id": "KOXWai3jKIRj"
      },
      "execution_count": null,
      "outputs": []
    }
  ]
}