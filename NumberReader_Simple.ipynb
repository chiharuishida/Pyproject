{
  "nbformat": 4,
  "nbformat_minor": 0,
  "metadata": {
    "colab": {
      "name": "NumberReader_Simple.ipynb",
      "provenance": [],
      "collapsed_sections": [],
      "authorship_tag": "ABX9TyORKm6VM4D2MN1vbtWAM7WZ",
      "include_colab_link": true
    },
    "kernelspec": {
      "name": "python3",
      "display_name": "Python 3"
    },
    "language_info": {
      "name": "python"
    }
  },
  "cells": [
    {
      "cell_type": "markdown",
      "metadata": {
        "id": "view-in-github",
        "colab_type": "text"
      },
      "source": [
        "<a href=\"https://colab.research.google.com/github/chiharuishida/Pyproject/blob/main/NumberReader_Simple.ipynb\" target=\"_parent\"><img src=\"https://colab.research.google.com/assets/colab-badge.svg\" alt=\"Open In Colab\"/></a>"
      ]
    },
    {
      "cell_type": "code",
      "source": [
        "from keras.datasets import mnist\n",
        "from keras import models\n",
        "from keras import layers\n",
        "import keras.utils\n",
        "from tensorflow.keras import utils as np_utils\n",
        "from keras.utils.np_utils import to_categorical\n",
        "import matplotlib.pyplot as plt\n"
      ],
      "metadata": {
        "id": "FcV40dIXIyqJ"
      },
      "execution_count": 7,
      "outputs": []
    },
    {
      "cell_type": "code",
      "source": [
        "#extracting data from Google API (https://storage.googleapis.com/tensorflow/tf-keras-datasets/mnist.npz)\n",
        "(x_train, y_train), (x_test, y_test) = mnist.load_data()"
      ],
      "metadata": {
        "id": "Rl25Mnm44AXQ"
      },
      "execution_count": 9,
      "outputs": []
    },
    {
      "cell_type": "code",
      "source": [
        "#first, let's see what the 28 X 28 pixel number images looks like:\n",
        "plt.imshow(x_train[0], cmap='gray_r')\n",
        "plt.imshow(x_train[2], cmap='gray_r')\n",
        "plt.imshow(x_train[100], cmap='gray_r')"
      ],
      "metadata": {
        "colab": {
          "base_uri": "https://localhost:8080/",
          "height": 283
        },
        "id": "L7Httbh34EnJ",
        "outputId": "4a62d70d-d142-41f0-b72d-05a7b167b3cf"
      },
      "execution_count": 10,
      "outputs": [
        {
          "output_type": "execute_result",
          "data": {
            "text/plain": [
              "<matplotlib.image.AxesImage at 0x7f35b5f0e350>"
            ]
          },
          "metadata": {},
          "execution_count": 10
        },
        {
          "output_type": "display_data",
          "data": {
            "text/plain": [
              "<Figure size 432x288 with 1 Axes>"
            ],
            "image/png": "[encoded data removed]"
          },
          "metadata": {
            "needs_background": "light"
          }
        }
      ]
    },
    {
      "cell_type": "code",
      "source": [
        "(train_images, train_labels), (test_images, test_labels)=mnist.load_data()\n",
        "\n",
        "print(train_labels[3])\n",
        "\n",
        "network = models.Sequential()\n",
        "network.add(layers.Dense(784, activation= 'relu', input_shape=(28 * 28,)))\n",
        "network.add(layers.Dense(784, activation= 'relu', input_shape=(28 * 28,)))\n",
        "network.add(layers.Dense(10, activation= 'softmax'))\n",
        "network.compile(optimizer='adam',\n",
        "                loss = 'categorical_crossentropy',\n",
        "                metrics=['accuracy'])\n",
        "\n",
        "network=models.Sequential()\n",
        "\n",
        "network.add(layers.Dense(784,activation= 'relu', input_shape=(28 * 28,)))\n",
        "network.add(layers.Dense(784,activation= 'relu', input_shape=(28 * 28,)))\n",
        "network.add(layers.Dense(10,activation= 'softmax'))\n",
        "\n",
        "\n",
        "network.compile(optimizer='adam',\n",
        "                loss = 'categorical_crossentropy',\n",
        "                metrics=['accuracy'])\n",
        "\n",
        "train_images = train_images.reshape((60000, 28* 28))\n",
        "train_images = train_images.astype('float32') / 255\n",
        "test_images = test_images.reshape((10000, 28* 28))\n",
        "test_images = test_images.astype('float32') / 255\n",
        "\n",
        "train_labels = to_categorical(train_labels)\n",
        "test_labels = to_categorical(test_labels)\n",
        "print(train_labels[2])\n",
        "\n",
        "network.fit(train_images, train_labels, epochs=5, batch_size=128)\n",
        "\n",
        "test_loss, test_acc = network.evaluate(test_images, test_labels)\n",
        "print('test_acc: ', test_acc, 'test_loss', test_loss)"
      ],
      "metadata": {
        "colab": {
          "base_uri": "https://localhost:8080/"
        },
        "id": "_VsQ5mtAKF37",
        "outputId": "55b55518-aaec-48e1-995b-87f80f744662"
      },
      "execution_count": 11,
      "outputs": [
        {
          "output_type": "stream",
          "name": "stdout",
          "text": [
            "1\n",
            "[0. 0. 0. 0. 1. 0. 0. 0. 0. 0.]\n",
            "Epoch 1/5\n",
            "469/469 [==============================] - 12s 24ms/step - loss: 0.2004 - accuracy: 0.9384\n",
            "Epoch 2/5\n",
            "469/469 [==============================] - 11s 24ms/step - loss: 0.0743 - accuracy: 0.9762\n",
            "Epoch 3/5\n",
            "469/469 [==============================] - 11s 24ms/step - loss: 0.0446 - accuracy: 0.9862\n",
            "Epoch 4/5\n",
            "469/469 [==============================] - 12s 27ms/step - loss: 0.0344 - accuracy: 0.9888\n",
            "Epoch 5/5\n",
            "469/469 [==============================] - 11s 24ms/step - loss: 0.0269 - accuracy: 0.9908\n",
            "313/313 [==============================] - 2s 5ms/step - loss: 0.0704 - accuracy: 0.9822\n",
            "test_acc:  0.982200026512146 test_loss 0.07043533772230148\n"
          ]
        }
      ]
    },
    {
      "cell_type": "code",
      "source": [
        "#let's create a submission file with results\n",
        "results = network.predict(test_images)\n",
        "import numpy as np\n",
        "import pandas as pd\n",
        "results = np.argmax(results,axis = 1)\n",
        "results = pd.Series(results,name=\"Label\")\n",
        "\n",
        "# output\n",
        "submission = pd.concat([pd.Series(range(1,28001), name='ImageId'), results], axis=1)\n",
        "submission.to_csv(\"numberclassification.csv\", index=False)"
      ],
      "metadata": {
        "id": "KOXWai3jKIRj"
      },
      "execution_count": 12,
      "outputs": []
    }
  ]
}